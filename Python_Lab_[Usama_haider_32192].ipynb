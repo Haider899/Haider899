{
  "nbformat": 4,
  "nbformat_minor": 0,
  "metadata": {
    "colab": {
      "name": "Pthon Lab [Usama haider/32192].ipynb",
      "provenance": [],
      "toc_visible": true,
      "authorship_tag": "ABX9TyMNYWxqk6jkcB1j7FEz/oRb",
      "include_colab_link": true
    },
    "kernelspec": {
      "name": "python3",
      "display_name": "Python 3"
    },
    "language_info": {
      "name": "python"
    }
  },
  "cells": [
    {
      "cell_type": "markdown",
      "metadata": {
        "id": "view-in-github",
        "colab_type": "text"
      },
      "source": [
        "<a href=\"https://colab.research.google.com/github/Haider899/Haider899/blob/main/Pthon_Lab_%5BUsama_haider_32192%5D.ipynb\" target=\"_parent\"><img src=\"https://colab.research.google.com/assets/colab-badge.svg\" alt=\"Open In Colab\"/></a>"
      ]
    },
    {
      "cell_type": "code",
      "execution_count": 1,
      "metadata": {
        "colab": {
          "base_uri": "https://localhost:8080/"
        },
        "id": "MbxWtkHnq86X",
        "outputId": "417c36c4-6bb7-4924-fd92-920ed075d2b5"
      },
      "outputs": [
        {
          "output_type": "stream",
          "name": "stdout",
          "text": [
            "Enter First number : 20\n",
            "Enter Second number : 15\n",
            "Enter Third number : 17\n",
            "The largest of the 3 numbers is :  20\n",
            "The smallest of the 3 numbers is :  15\n"
          ]
        }
      ],
      "source": [
        "#Q:1\n",
        "num1 = int(input('Enter First number : '))\n",
        "num2 = int(input('Enter Second number : '))\n",
        "num3 = int(input('Enter Third number : '))\n",
        "\n",
        "if (num1 > num2) and (num1 > num3):\n",
        "    largest_num = num1\n",
        "elif (num2 > num1) and (num2 > num3):\n",
        "    largest_num = num2\n",
        "else:\n",
        "    largest_num = num3\n",
        "print(\"The largest of the 3 numbers is : \", largest_num)\n",
        "\n",
        "if (num1 < num2) and (num1 < num3):\n",
        "    smallest_num = num1\n",
        "elif (num2 < num1) and (num2 < num3):\n",
        "    smallest_num = num2\n",
        "else:\n",
        "    smallest_num = num3\n",
        "print(\"The smallest of the 3 numbers is : \", smallest_num)"
      ]
    },
    {
      "cell_type": "code",
      "source": [
        "#Q:2\n",
        "year = int(input('Enter current year : '))\n",
        "\n",
        "if (year % 400 == 0) and (year % 100 == 0):\n",
        "    print(\"{0} is a leap year\".format(year))\n",
        "\n",
        "\n",
        "elif (year % 4 ==0) and (year % 100 != 0):\n",
        "    print(\"{0} is a leap year\".format(year))\n",
        "\n",
        "else:\n",
        "    print(\"{0} is not a leap year\".format(year))"
      ],
      "metadata": {
        "colab": {
          "base_uri": "https://localhost:8080/"
        },
        "id": "Qyee7788rS5P",
        "outputId": "0e094807-3730-4273-91f2-11ce9e64bdc0"
      },
      "execution_count": 2,
      "outputs": [
        {
          "output_type": "stream",
          "name": "stdout",
          "text": [
            "Enter current year : 2022\n",
            "2022 is not a leap year\n"
          ]
        }
      ]
    },
    {
      "cell_type": "code",
      "source": [
        "#Q:3\n",
        "print(\"Enter your obtained Marks: \")\n",
        "marks = int(input())\n",
        "\n",
        "if marks>=88 and marks <=100:\n",
        "    print(\"Your grade is A\")\n",
        "elif marks>=81 and marks <=87:\n",
        "    print(\"Your grade is B+\")\n",
        "elif marks>=74 and marks <=80:\n",
        "    print(\"Your grade is B\")\n",
        "elif marks>=67 and marks <=73:\n",
        "    print(\"Your grade is C+\")\n",
        "elif marks>=60 and marks <=66:\n",
        "    print(\"Your grade is C\")\n",
        "elif marks>=0 and marks <=60:\n",
        "    print(\"Your grade is F\")\n",
        "else:\n",
        "    print(\"INVALID INPUT!!!!\")"
      ],
      "metadata": {
        "colab": {
          "base_uri": "https://localhost:8080/"
        },
        "id": "In7TAac-rbKn",
        "outputId": "9586be70-068d-427c-b834-43bb4a1a6e34"
      },
      "execution_count": 3,
      "outputs": [
        {
          "output_type": "stream",
          "name": "stdout",
          "text": [
            "Enter your obtained Marks: \n",
            "83\n",
            "Your grade is B+\n"
          ]
        }
      ]
    },
    {
      "cell_type": "code",
      "source": [
        "#Q:4\n",
        "num=(input(\"Enter Name: \"))\n",
        "print(\"Reverse Name is: \", num[-1:-12:-1])"
      ],
      "metadata": {
        "colab": {
          "base_uri": "https://localhost:8080/"
        },
        "id": "uLwkxEYrrlL2",
        "outputId": "a4a42c7f-b1ac-47b9-d9b1-2b6cd7b6c7fd"
      },
      "execution_count": 10,
      "outputs": [
        {
          "output_type": "stream",
          "name": "stdout",
          "text": [
            "Enter Name: Haider\n",
            "Reverse Name is:  rediaH\n"
          ]
        }
      ]
    },
    {
      "cell_type": "code",
      "source": [
        "#Q:5\n",
        "Age=int(input(\"Enter your age in years: \"))\n",
        "Total_months=12\n",
        "Age_in_months=Age*Total_months\n",
        "print(\"Your age in month is: \", Age_in_months)"
      ],
      "metadata": {
        "colab": {
          "base_uri": "https://localhost:8080/"
        },
        "id": "kYmrTIkXrrwy",
        "outputId": "c1a24181-97c4-46ba-e353-f99a16283a92"
      },
      "execution_count": 9,
      "outputs": [
        {
          "output_type": "stream",
          "name": "stdout",
          "text": [
            "Enter your age in years: 22\n",
            "Your age in month is:  264\n"
          ]
        }
      ]
    },
    {
      "cell_type": "code",
      "source": [
        "#Q:6\n",
        "a=10\n",
        "b=20\n",
        "print(\"BEFORE SWAPPING\", \"a=\",a, \"b=\",b)\n",
        "a=a+b\n",
        "b=a-b\n",
        "a=a-b\n",
        "print(\"AFTER SWAPPING\", \"a=\",a, \"b=\",b)"
      ],
      "metadata": {
        "colab": {
          "base_uri": "https://localhost:8080/"
        },
        "id": "z2_n2V2hr3aY",
        "outputId": "c0e8797c-0ea5-4624-df6c-f4cd7a5aa912"
      },
      "execution_count": 6,
      "outputs": [
        {
          "output_type": "stream",
          "name": "stdout",
          "text": [
            "BEFORE SWAPPING a= 10 b= 20\n",
            "AFTER SWAPPING a= 20 b= 10\n"
          ]
        }
      ]
    },
    {
      "cell_type": "code",
      "source": [
        "#Q:7\n",
        "userInput = 0\n",
        "largest = 0\n",
        "smallest = 0\n",
        "#print(\"Enter the range of numbers = \")\n",
        "userInput = input(\"Enter the range of numbers = \")\n",
        "for x in range(0, int(userInput)+1,2):\n",
        "  print(x)\n",
        "  if(x>largest):\n",
        "    largest = x\n",
        "  if(x<smallest):\n",
        "    smallest = x\n",
        "print(\"smallest number in range is \" , smallest, \"and the largest is \", largest)"
      ],
      "metadata": {
        "colab": {
          "base_uri": "https://localhost:8080/"
        },
        "id": "k930cwhAr9YK",
        "outputId": "5f51967f-428d-459e-c40f-33cb5ec5219f"
      },
      "execution_count": 7,
      "outputs": [
        {
          "output_type": "stream",
          "name": "stdout",
          "text": [
            "Enter the range of numbers = 24\n",
            "0\n",
            "2\n",
            "4\n",
            "6\n",
            "8\n",
            "10\n",
            "12\n",
            "14\n",
            "16\n",
            "18\n",
            "20\n",
            "22\n",
            "24\n",
            "smallest number in range is  0 and the largest is  24\n"
          ]
        }
      ]
    },
    {
      "cell_type": "code",
      "source": [
        "Start = int(input(\"Enter the starting range: \"))\n",
        "End = int(input(\"Enter the ending range: \"))\n",
        "product = 1\n",
        "count=0\n",
        "print(\"Prime numbers between\", Start, \"and\", End, \"are:\")\n",
        "for num in range(Start, End + 1):\n",
        "   if num > 1:\n",
        "    for i in range(2, num):\n",
        "     if (num % i) == 0:\n",
        "      break\n",
        "    else:\n",
        "     print(num)\n",
        "     count=count+1\n",
        "     product=num*product\n",
        "print(\"The total prime numbers are\", count)\n",
        "print(\"The Product of  prime numbers is\", product)"
      ],
      "metadata": {
        "colab": {
          "base_uri": "https://localhost:8080/"
        },
        "id": "xy9NMmYKsCQi",
        "outputId": "f4651e71-be2b-432f-b9c3-6726f5e66f9e"
      },
      "execution_count": 8,
      "outputs": [
        {
          "output_type": "stream",
          "name": "stdout",
          "text": [
            "Enter the starting range: 30\n",
            "Enter the ending range: 70\n",
            "Prime numbers between 30 and 70 are:\n",
            "31\n",
            "37\n",
            "41\n",
            "43\n",
            "47\n",
            "53\n",
            "59\n",
            "61\n",
            "67\n",
            "The total prime numbers are 9\n",
            "The Product of  prime numbers is 1214635883296783\n"
          ]
        }
      ]
    }
  ]
}
